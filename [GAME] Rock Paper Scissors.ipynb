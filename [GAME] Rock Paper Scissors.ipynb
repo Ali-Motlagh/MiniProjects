{
  "cells": [
    {
      "cell_type": "code",
      "execution_count": 30,
      "metadata": {
        "colab": {
          "base_uri": "https://localhost:8080/"
        },
        "id": "B6xOddWLUjaL",
        "outputId": "9f481629-6088-4442-fc9e-072b8c91913b"
      },
      "outputs": [
        {
          "name": "stdout",
          "output_type": "stream",
          "text": [
            "CHOOSE rock, paper or scissors... rock\n",
            "\n",
            "You chose rock, computer chose paper.\n",
            "\n",
            "LOSER! PAPER COVERS ROCK\n",
            "\n",
            "PLAY AGAIN? (y/n):\n",
            " y\n",
            "CHOOSE rock, paper or scissors... scissors\n",
            "\n",
            "You chose scissors, computer chose paper.\n",
            "\n",
            "WINNER! SCISSORS CUTS PAPER\n",
            "\n",
            "PLAY AGAIN? (y/n):\n",
            " y\n",
            "CHOOSE rock, paper or scissors... paper\n",
            "\n",
            "You chose paper, computer chose paper.\n",
            "\n",
            "UH-OH BOTH PLAYERS SELECTED paper. IT'S A TIE!\n",
            "\n",
            "PLAY AGAIN? (y/n):\n",
            " n\n"
          ]
        }
      ],
      "source": [
        "import random\n",
        "while True:\n",
        "  player = input(\"CHOOSE rock, paper or scissors... \")\n",
        "  choices = [\"rock\", \"paper\", \"scissors\"]\n",
        "  computer = random.choice(choices)\n",
        "  print(f\"\\nYou chose {player}, computer chose {computer}.\\n\")\n",
        "\n",
        "  if player == computer :\n",
        "      print(f\"UH-OH BOTH PLAYERS SELECTED {player}. IT'S A TIE!\")\n",
        "  elif player == \"rock\" :\n",
        "      if computer == \"paper\":\n",
        "          print(\"LOSER! PAPER COVERS ROCK\")\n",
        "      else:\n",
        "          print(\"WINNER! ROCK SMASHES SCISSORS\")\n",
        "  elif player == \"paper\" :\n",
        "      if computer == \"rock\":\n",
        "          print(\"WINNER! PAPER COVERS ROCK\")\n",
        "      else:\n",
        "          print(\"LOSER! SCISSORS CUTS PAPER\")\n",
        "  elif player == \"scissors\" :\n",
        "      if computer == \"rock\":\n",
        "          print(\"LOSER! ROCK SMASHES SCISSORS\")\n",
        "      else:\n",
        "          print(\"WINNER! SCISSORS CUTS PAPER\")\n",
        "  again = input(\"\\nPLAY AGAIN? (y/n):\\n \")\n",
        "  if again.lower() != \"y\":\n",
        "      break\n",
        "\n"
      ]
    }
  ],
  "metadata": {
    "colab": {
      "collapsed_sections": [],
      "name": "RPSgame.ipynb",
      "provenance": []
    },
    "kernelspec": {
      "display_name": "Python 3",
      "name": "python3"
    },
    "language_info": {
      "name": "python"
    }
  },
  "nbformat": 4,
  "nbformat_minor": 0
}
