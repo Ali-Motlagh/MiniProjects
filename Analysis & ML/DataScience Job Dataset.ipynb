{
  "nbformat": 4,
  "nbformat_minor": 0,
  "metadata": {
    "colab": {
      "name": "IDS400Project.ipynb",
      "provenance": [],
      "include_colab_link": true
    },
    "kernelspec": {
      "name": "python3",
      "display_name": "Python 3"
    },
    "language_info": {
      "name": "python"
    }
  },
  "cells": [
    {
      "cell_type": "markdown",
      "metadata": {
        "id": "view-in-github",
        "colab_type": "text"
      },
      "source": [
        "<a href=\"https://colab.research.google.com/github/Ali-Motlagh/MiniProjects/blob/main/Data%20Science%20Job%20Data%20Project.ipynb\" target=\"_parent\"><img src=\"https://colab.research.google.com/assets/colab-badge.svg\" alt=\"Open In Colab\"/></a>"
      ]
    },
    {
      "cell_type": "markdown",
      "metadata": {
        "id": "ORQP7V0qB_8X"
      },
      "source": [
        "# **Data Scientist** \n",
        "### **Where** are they?\n",
        "## and what are they **worth?**"
      ]
    },
    {
      "cell_type": "code",
      "metadata": {
        "id": "SlbOeeJzqcZ3"
      },
      "source": [
        "import pandas as pd\n",
        "import numpy as np\n",
        "import matplotlib.pyplot as plt\n"
      ],
      "execution_count": null,
      "outputs": []
    },
    {
      "cell_type": "code",
      "metadata": {
        "id": "8JvZB-NkbsZH",
        "colab": {
          "resources": {
            "http://localhost:8080/nbextensions/google.colab/files.js": {
              "data": "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",
              "ok": true,
              "headers": [
                [
                  "content-type",
                  "application/javascript"
                ]
              ],
              "status": 200,
              "status_text": ""
            }
          },
          "base_uri": "https://localhost:8080/",
          "height": 113
        },
        "outputId": "97c20dba-cfb7-4902-f61b-b9b294818339"
      },
      "source": [
        "# upload Data Science Jobs Salaries.csv\n",
        "from google.colab import files\n",
        "files.upload()"
      ],
      "execution_count": null,
      "outputs": [
        {
          "output_type": "display_data",
          "data": {
            "text/html": [
              "\n",
              "     <input type=\"file\" id=\"files-cd6baa8b-fbd1-454b-9916-7a71721af55d\" name=\"files[]\" multiple disabled\n",
              "        style=\"border:none\" />\n",
              "     <output id=\"result-cd6baa8b-fbd1-454b-9916-7a71721af55d\">\n",
              "      Upload widget is only available when the cell has been executed in the\n",
              "      current browser session. Please rerun this cell to enable.\n",
              "      </output>\n",
              "      <script src=\"/nbextensions/google.colab/files.js\"></script> "
            ],
            "text/plain": [
              "<IPython.core.display.HTML object>"
            ]
          },
          "metadata": {}
        },
        {
          "output_type": "stream",
          "name": "stdout",
          "text": [
            "Saving Data Science Jobs Salaries.csv to Data Science Jobs Salaries.csv\n"
          ]
        },
        {
          "output_type": "execute_result",
          "data": {
            "text/plain": [
              "{'Data Science Jobs Salaries.csv': b'work_year,experience_level,employment_type,job_title,salary,salary_currency,salary_in_usd,employee_residence,remote_ratio,company_location,company_size\\n2021e,EN,FT,Data Science Consultant,54000,EUR,64369,DE,50,DE,L\\n2020,SE,FT,Data Scientist,60000,EUR,68428,GR,100,US,L\\n2021e,EX,FT,Head of Data Science,85000,USD,85000,RU,0,RU,M\\n2021e,EX,FT,Head of Data,230000,USD,230000,RU,50,RU,L\\n2021e,EN,FT,Machine Learning Engineer,125000,USD,125000,US,100,US,S\\n2021e,SE,FT,Data Analytics Manager,120000,USD,120000,US,100,US,M\\n2020,MI,FT,Research Scientist,450000,USD,450000,US,0,US,M\\n2020,MI,FT,Data Analyst,41000,EUR,46759,FR,50,FR,L\\n2020,MI,FT,Data Engineer,65000,EUR,74130,AT,50,AT,L\\n2021e,SE,FT,Data Science Engineer,159500,CAD,127543,CA,50,CA,L\\n2021e,SE,FT,Manager Data Science,144000,USD,144000,US,100,US,L\\n2021e,EN,FT,Data Scientist,13400,USD,13400,UA,100,UA,L\\n2021e,MI,FT,Data Scientist,95000,CAD,75966,CA,100,CA,L\\n2021e,MI,FT,Data Scientist,150000,USD,150000,US,100,US,M\\n2020,MI,FT,Data Science Consultant,103000,USD,103000,US,100,US,L\\n2021e,SE,FT,Data Engineering Manager,153000,USD,153000,US,100,US,L\\n2021e,MI,FT,Data Engineer,90000,USD,90000,US,100,US,L\\n2021e,EN,FT,Data Analyst,90000,USD,90000,US,100,US,S\\n2021e,EN,FT,Data Analyst,60000,USD,60000,US,100,US,S\\n2021e,MI,FT,Data Scientist,50000,USD,50000,NG,100,NG,L\\n2021e,EN,PT,AI Scientist,12000,USD,12000,PK,100,US,M\\n2021e,MI,PT,3D Computer Vision Researcher,400000,INR,5423,IN,50,IN,M\\n2021e,MI,CT,ML Engineer,270000,USD,270000,US,100,US,L\\n2021e,MI,FT,Applied Data Scientist,68000,CAD,54376,GB,50,CA,L\\n2021e,MI,FT,Machine Learning Engineer,40000,EUR,47681,ES,100,ES,S\\n2021e,EX,FT,Director of Data Science,130000,EUR,154963,IT,100,PL,L\\n2021e,MI,FT,Data Engineer,110000,PLN,28801,PL,100,PL,L\\n2021e,MI,FT,Data Analytics Engineer,110000,USD,110000,US,100,US,L\\n2021e,EN,FT,Research Scientist,60000,GBP,83000,GB,50,GB,L\\n2020,EN,FT,Machine Learning Engineer,250000,USD,250000,US,50,US,L\\n2021e,EN,FT,Data Analyst,50000,EUR,59601,FR,50,FR,M\\n2021e,SE,FT,Data Analyst,80000,USD,80000,BG,100,US,S\\n2020,EN,FT,Data Analyst,10000,USD,10000,NG,100,NG,S\\n2020,EN,FT,Machine Learning Engineer,138000,USD,138000,US,100,US,S\\n2021e,MI,FT,Data Engineer,140000,USD,140000,US,100,US,L\\n2021e,SE,FT,Data Analytics Engineer,67000,EUR,79866,DE,100,DE,L\\n2021e,SE,FT,Lead Data Analyst,170000,USD,170000,US,100,US,L\\n2021e,EN,FT,Data Analyst,80000,USD,80000,US,100,US,M\\n2020,MI,FT,Data Scientist,45760,USD,45760,PH,100,US,S\\n2021e,MI,FT,BI Data Analyst,100000,USD,100000,US,100,US,M\\n2021e,SE,FT,Data Scientist,45000,EUR,53641,FR,50,FR,L\\n2021e,EX,FT,Head of Data,235000,USD,235000,US,100,US,L\\n2021e,EX,FT,BI Data Analyst,150000,USD,150000,IN,100,US,L\\n2020,EX,FT,Data Engineering Manager,70000,EUR,79833,ES,50,ES,L\\n2021e,EN,FT,Machine Learning Scientist,225000,USD,225000,US,100,US,L\\n2021e,EN,FT,Data Science Consultant,65000,EUR,77481,DE,100,DE,S\\n2020,MI,FT,Machine Learning Infrastructure Engineer,44000,EUR,50180,PT,0,PT,M\\n2021e,SE,FT,Marketing Data Analyst,75000,EUR,89402,GR,100,DK,L\\n2021e,SE,FT,Lead Data Engineer,75000,GBP,103750,GB,100,GB,S\\n2021e,SE,FT,Director of Data Engineering,82500,GBP,114125,GB,100,GB,M\\n2021e,SE,FT,Machine Learning Engineer,80000,EUR,95362,DE,50,DE,L\\n2021e,EN,FT,Data Engineer,2250000,INR,30509,IN,100,IN,L\\n2021e,SE,FT,Data Engineer,150000,USD,150000,US,100,US,M\\n2021e,SE,FT,Data Engineer,115000,USD,115000,US,100,US,S\\n2021e,MI,FT,Research Scientist,235000,CAD,187917,CA,100,CA,L\\n2021e,MI,FT,Data Analyst,37456,GBP,51814,GB,50,GB,L\\n2020,MI,FT,Data Engineer,106000,USD,106000,US,100,US,L\\n2020,MI,FT,Data Engineer,88000,GBP,112872,GB,50,GB,L\\n2021e,MI,FT,BI Data Analyst,11000000,HUF,36732,HU,50,US,L\\n2021e,SE,FT,Data Engineer,150000,USD,150000,US,100,US,L\\n2020,EN,PT,ML Engineer,14000,EUR,15966,DE,100,DE,S\\n2021e,MI,FT,Computer Vision Software Engineer,81000,EUR,96554,DE,100,US,S\\n2021e,EN,FT,Computer Vision Software Engineer,70000,USD,70000,US,100,US,M\\n2021e,MI,FT,Financial Data Analyst,450000,USD,450000,US,100,US,L\\n2020,MI,FT,Data Scientist,60000,GBP,76958,GB,100,GB,S\\n2021e,MI,FT,Cloud Data Engineer,120000,SGD,89514,SG,50,SG,L\\n2021e,EN,FT,Data Scientist,2200000,INR,29831,IN,50,IN,L\\n2021e,SE,FT,Lead Data Engineer,276000,USD,276000,US,0,US,L\\n2020,SE,FT,Data Engineer,188000,USD,188000,US,100,US,L\\n2021e,SE,FT,Cloud Data Engineer,160000,USD,160000,BR,100,US,S\\n2020,MI,FT,Data Scientist,105000,USD,105000,US,100,US,L\\n2021e,MI,FT,Data Engineer,200000,USD,200000,US,100,US,L\\n2021e,SE,FT,Data Engineering Manager,174000,USD,174000,US,100,US,L\\n2021e,MI,FT,Data Analyst,93000,USD,93000,US,100,US,L\\n2021e,EN,FT,Data Scientist,2100000,INR,28475,IN,100,IN,M\\n2021e,SE,FT,Research Scientist,51400,EUR,61270,PT,50,PT,L\\n2021e,EN,FT,Data Scientist,90000,USD,90000,US,100,US,S\\n2020,MI,FT,Data Engineer,61500,EUR,70139,FR,50,FR,L\\n2020,EN,FT,Data Analyst,450000,INR,6072,IN,0,IN,S\\n2020,SE,FT,Data Engineer,720000,MXN,33511,MX,0,MX,S\\n2021e,SE,FT,Principal Data Analyst,170000,USD,170000,US,100,US,M\\n2021e,SE,FT,Data Engineer,70000,GBP,96833,GB,50,GB,L\\n2021e,MI,FT,Data Engineer,108000,TRY,13105,TR,0,TR,M\\n2021e,EN,FT,Data Scientist,31000,EUR,36952,FR,50,FR,L\\n2021e,MI,FT,Data Engineer,52500,GBP,72625,GB,50,GB,L\\n2020,EN,FT,Data Analyst,91000,USD,91000,US,100,US,L\\n2021e,SE,FT,Big Data Architect,125000,CAD,99956,CA,50,CA,M\\n2021e,SE,FT,Data Scientist,165000,USD,165000,US,100,US,L\\n2021e,MI,FT,Data Analyst,80000,USD,80000,US,100,US,L\\n2021e,SE,FT,Data Scientist,130000,CAD,103954,CA,100,CA,L\\n2021e,EN,FT,Data Engineer,1600000,INR,21695,IN,50,IN,M\\n2020,EN,FT,Research Scientist,42000,USD,42000,NL,50,NL,L\\n2020,MI,FT,Lead Data Scientist,115000,USD,115000,AE,0,AE,L\\n2021e,MI,FT,Research Scientist,80000,CAD,63971,CA,100,CA,M\\n2020,SE,FT,Machine Learning Scientist,260000,USD,260000,JP,0,JP,S\\n2021e,MI,FT,Head of Data Science,110000,USD,110000,US,0,US,S\\n2021e,MI,FT,Data Architect,180000,USD,180000,US,100,US,L\\n2021e,SE,FT,Data Analyst,200000,USD,200000,US,100,US,L\\n2020,SE,FT,Big Data Engineer,85000,GBP,109024,GB,50,GB,M\\n2021e,SE,FT,Director of Data Engineering,200000,USD,200000,US,100,US,L\\n2021e,SE,FT,ML Engineer,256000,USD,256000,US,100,US,S\\n2021e,MI,FT,Data Engineer,110000,USD,110000,US,100,US,L\\n2020,MI,FT,Data Scientist,70000,EUR,79833,DE,0,DE,L\\n2021e,EN,FT,Data Engineer,72500,USD,72500,US,100,US,L\\n2021e,SE,FT,Machine Learning Engineer,185000,USD,185000,US,50,US,L\\n2021e,MI,PT,Data Engineer,59000,EUR,70329,NL,100,NL,L\\n2021e,EN,FT,Research Scientist,100000,USD,100000,JE,0,CN,L\\n2021e,MI,FT,Data Engineer,112000,USD,112000,US,100,US,L\\n2020,SE,FT,Machine Learning Engineer,150000,USD,150000,US,50,US,L\\n2021e,SE,FT,Data Scientist,180000,TRY,21843,TR,50,TR,L\\n2021e,SE,FT,AI Scientist,55000,USD,55000,ES,100,ES,L\\n2021e,EN,FT,Data Scientist,58000,USD,58000,US,50,US,L\\n2021e,EN,FT,Data Scientist,100000,USD,100000,US,100,US,M\\n2021e,SE,FT,Data Scientist,65720,EUR,78340,FR,50,FR,M\\n2021e,EN,FT,Machine Learning Engineer,85000,USD,85000,NL,100,DE,S\\n2021e,EN,FT,Data Science Consultant,65000,EUR,77481,DE,0,DE,L\\n2021e,SE,CT,Staff Data Scientist,105000,USD,105000,US,100,US,M\\n2020,EN,FT,Data Analyst,72000,USD,72000,US,100,US,L\\n2021e,EN,FT,Data Engineer,55000,EUR,65561,DE,50,DE,M\\n2021e,MI,FT,Data Engineer,250000,TRY,30337,TR,100,TR,M\\n2021e,MI,FT,Data Engineer,111775,USD,111775,US,0,US,M\\n2021e,MI,FT,Data Engineer,93150,USD,93150,US,0,US,M\\n2021e,SE,FT,Lead Data Engineer,160000,USD,160000,PR,50,US,S\\n2021e,MI,FT,Data Scientist,21600,EUR,25747,RS,100,DE,S\\n2021e,SE,FT,Machine Learning Engineer,4900000,INR,66442,IN,0,IN,L\\n2021e,MI,FT,Data Scientist,1250000,INR,16949,IN,100,IN,S\\n2021e,SE,FT,Data Analyst,54000,EUR,64369,DE,50,DE,L\\n2020,SE,FT,Lead Data Scientist,190000,USD,190000,US,100,US,S\\n2021e,EX,FT,Director of Data Science,120000,EUR,143043,DE,0,DE,L\\n2021e,EN,FT,Big Data Engineer,1200000,INR,16271,IN,100,IN,L\\n2021e,SE,FT,Data Analyst,90000,CAD,71968,CA,100,CA,M\\n2020,MI,FT,Data Scientist,11000000,HUF,35735,HU,50,HU,L\\n2021e,SE,FT,Data Scientist,135000,USD,135000,US,0,US,L\\n2021e,EN,FT,Machine Learning Engineer,21000,EUR,25032,DE,50,DE,M\\n2021e,SE,FT,Data Science Manager,4000000,INR,54238,IN,50,US,L\\n2021e,SE,FT,Machine Learning Engineer,1799997,INR,24407,IN,100,IN,L\\n2021e,EN,FT,BI Data Analyst,9272,USD,9272,KE,100,KE,S\\n2021e,MI,FT,Data Scientist,147000,USD,147000,US,50,US,L\\n2021e,SE,FT,Research Scientist,120500,CAD,96357,CA,50,CA,L\\n2021e,SE,FT,Data Science Manager,174000,USD,174000,US,100,US,L\\n2020,MI,FT,Business Data Analyst,135000,USD,135000,US,100,US,L\\n2021e,EN,FT,Machine Learning Engineer,21844,USD,21844,CO,50,CO,M\\n2020,SE,FT,Lead Data Engineer,125000,USD,125000,NZ,50,NZ,S\\n2020,EN,FT,Data Scientist,45000,EUR,51321,FR,0,FR,S\\n2020,MI,FT,Data Scientist,3000000,INR,40481,IN,0,IN,L\\n2021e,EX,FT,Data Science Consultant,59000,EUR,70329,FR,100,ES,S\\n2021e,SE,FT,Data Analytics Engineer,50000,USD,50000,VN,100,GB,M\\n2021e,MI,FT,Data Engineer,4000,USD,4000,IR,100,IR,M\\n2020,EN,FT,Data Scientist,35000,EUR,39916,FR,0,FR,M\\n2020,MI,FT,Lead Data Analyst,87000,USD,87000,US,100,US,L\\n2021e,MI,FT,Data Engineer,22000,EUR,26224,RO,0,US,L\\n2021e,MI,FT,Data Scientist,76760,EUR,91500,DE,50,DE,L\\n2021e,MI,FT,Big Data Engineer,1672000,INR,22671,IN,0,IN,L\\n2021e,MI,FT,Data Scientist,420000,INR,5695,IN,100,US,S\\n2021e,EN,FT,Machine Learning Engineer,81000,USD,81000,US,50,US,S\\n2021e,MI,FT,Data Scientist,30400000,CLP,40798,CL,100,CL,L\\n2021e,MI,FT,Data Scientist,58000,MXN,2876,MX,0,MX,S\\n2021e,EN,FT,Data Science Consultant,90000,USD,90000,US,100,US,S\\n2021e,MI,FT,Data Scientist,52000,EUR,61985,DE,50,AT,M\\n2021e,SE,FT,Machine Learning Infrastructure Engineer,195000,USD,195000,US,100,US,M\\n2021e,MI,FT,Data Scientist,32000,EUR,38144,ES,100,ES,L\\n2020,MI,FT,Data Analyst,85000,USD,85000,US,100,US,L\\n2021e,EX,CT,Principal Data Scientist,416000,USD,416000,US,100,US,S\\n2021e,SE,FT,Machine Learning Scientist,225000,USD,225000,US,100,CA,L\\n2021e,MI,FT,Data Scientist,40900,GBP,56578,GB,50,GB,L\\n2021e,MI,FT,Data Scientist,2500000,INR,33899,IN,0,IN,M\\n2021e,MI,FT,Data Scientist,85000,GBP,117583,GB,50,GB,L\\n2021e,MI,FT,Machine Learning Engineer,180000,PLN,47129,PL,100,PL,L\\n2020,MI,FT,Data Analyst,8000,USD,8000,PK,50,PK,L\\n2020,EN,FT,Data Engineer,4450000,JPY,41689,JP,100,JP,S\\n2020,SE,FT,Big Data Engineer,100000,EUR,114047,PL,100,GB,S\\n2021e,MI,FT,Machine Learning Engineer,75000,EUR,89402,BE,100,BE,M\\n2020,EN,FT,Data Science Consultant,423000,INR,5707,IN,50,IN,M\\n2020,MI,FT,Lead Data Engineer,56000,USD,56000,PT,100,US,M\\n2021e,EN,PT,Computer Vision Engineer,180000,DKK,28850,DK,50,DK,S\\n2021e,MI,FT,Data Scientist,75000,EUR,89402,DE,50,DE,L\\n2020,MI,FT,Machine Learning Engineer,299000,CNY,43331,CN,0,CN,M\\n2020,MI,FT,Product Data Analyst,450000,INR,6072,IN,100,IN,L\\n2020,SE,FT,Data Engineer,42000,EUR,47899,GR,50,GR,L\\n2020,MI,FT,BI Data Analyst,98000,USD,98000,US,0,US,M\\n2021e,MI,FT,Data Engineer,48000,GBP,66400,HK,50,GB,S\\n2021e,MI,FT,Research Scientist,48000,EUR,57217,FR,50,FR,S\\n2021e,MI,FT,Machine Learning Engineer,21000,EUR,25032,SI,50,SI,L\\n2021e,SE,FT,Data Analytics Manager,120000,USD,120000,US,0,US,L\\n2021e,MI,FL,Data Engineer,20000,USD,20000,IT,0,US,L\\n2020,EX,FT,Director of Data Science,325000,USD,325000,US,100,US,L\\n2021e,SE,FT,Machine Learning Engineer,200000,USD,200000,US,100,US,L\\n2020,EN,FT,AI Scientist,300000,DKK,45896,DK,50,DK,S\\n2021e,MI,FT,Data Scientist,160000,USD,160000,US,100,US,L\\n2021e,SE,FT,Research Scientist,50000,USD,50000,FR,100,US,S\\n2021e,MI,FT,Data Science Engineer,34000,EUR,40529,GR,100,GR,M\\n2021e,EX,FT,Principal Data Engineer,600000,USD,600000,US,100,US,L\\n2021e,MI,FT,Data Scientist,69600,BRL,13000,BR,0,BR,S\\n2021e,SE,FT,Data Engineer,165000,USD,165000,US,0,US,M\\n2021e,EN,FT,Big Data Engineer,435000,INR,5898,IN,0,CH,L\\n2020,MI,FT,Data Scientist,37000,EUR,42197,FR,50,FR,S\\n2021e,SE,FT,Principal Data Engineer,185000,USD,185000,US,100,US,L\\n2020,EN,FT,Data Scientist,55000,EUR,62726,DE,50,DE,S\\n2021e,MI,FT,Data Scientist,76760,EUR,91500,DE,50,DE,L\\n2020,EN,PT,Data Scientist,19000,EUR,21669,IT,50,IT,S\\n2020,MI,FT,Data Engineer,110000,USD,110000,US,100,US,L\\n2021e,SE,FT,Data Analytics Manager,140000,USD,140000,US,100,US,L\\n2020,SE,FT,Data Scientist,120000,USD,120000,US,50,US,L\\n2021e,SE,FT,Data Scientist,110000,CAD,87961,CA,100,CA,S\\n2021e,SE,FT,Finance Data Analyst,45000,GBP,62250,GB,50,GB,L\\n2021e,MI,FL,Machine Learning Scientist,12000,USD,12000,PK,50,PK,M\\n2021e,SE,FT,Data Engineer,65000,EUR,77481,RO,50,GB,S\\n2021e,MI,FT,Machine Learning Engineer,74000,USD,74000,JP,50,JP,S\\n2021e,SE,FT,Data Science Manager,152000,USD,152000,US,100,FR,L\\n2021e,MI,FT,Big Data Engineer,18000,USD,18000,MD,0,MD,S\\n2020,SE,FL,Computer Vision Engineer,60000,USD,60000,RU,100,US,S\\n2021e,MI,FT,Data Scientist,130000,USD,130000,US,50,US,L\\n2021e,SE,FT,Computer Vision Engineer,102000,BRL,19052,BR,0,BR,M\\n2021e,EN,FT,Business Data Analyst,50000,EUR,59601,LU,100,LU,L\\n2021e,SE,FT,Principal Data Scientist,147000,EUR,175228,DE,100,DE,M\\n2020,SE,FT,Principal Data Scientist,130000,EUR,148261,DE,100,DE,M\\n2020,MI,FT,Data Scientist,34000,EUR,38776,ES,100,ES,M\\n2021e,MI,FT,Data Scientist,39600,EUR,47204,ES,100,ES,M\\n2021e,EN,FT,Data Scientist,4000,USD,4000,VN,0,VN,M\\n2021e,EN,FT,AI Scientist,1335000,INR,18102,IN,100,AS,S\\n2020,SE,FT,Data Scientist,80000,EUR,91237,AT,0,AT,S\\n2020,MI,FT,Data Scientist,55000,EUR,62726,FR,50,LU,S\\n2021e,MI,FT,Data Scientist,115000,USD,115000,US,50,US,L\\n2021e,SE,FT,Principal Data Scientist,235000,USD,235000,US,100,US,L\\n2021e,MI,FT,Lead Data Analyst,1450000,INR,19661,IN,100,IN,L\\n2021e,EN,PT,AI Scientist,12000,USD,12000,BR,100,US,S\\n2021e,MI,FT,Data Analyst,75000,USD,75000,US,0,US,L\\n2021e,MI,FT,Data Analyst,62000,USD,62000,US,0,US,L\\n2021e,MI,FT,Data Scientist,73000,USD,73000,US,0,US,L\\n2021e,MI,FT,Data Engineer,38400,EUR,45773,NL,100,NL,L\\n2020,SE,FT,Data Science Manager,190200,USD,190200,US,100,US,M\\n2020,MI,FT,Data Scientist,118000,USD,118000,US,100,US,M\\n2020,MI,FT,Data Scientist,138350,USD,138350,US,100,US,M\\n2020,MI,FT,Data Engineer,130800,USD,130800,ES,100,US,M\\n2020,SE,FT,Machine Learning Engineer,40000,EUR,45618,HR,100,HR,S\\n2021e,SE,FT,Director of Data Science,168000,USD,168000,JP,0,JP,S\\n2021e,MI,FT,Data Scientist,160000,SGD,119353,SG,100,IL,M\\n2021e,MI,FT,Applied Machine Learning Scientist,423000,USD,423000,US,50,US,L\\n2021e,MI,FT,Data Engineer,24000,EUR,28608,MT,50,MT,L\\n2021e,SE,FT,Data Specialist,165000,USD,165000,US,100,US,L\\n2020,SE,FT,Data Scientist,412000,USD,412000,US,100,US,L\\n2021e,MI,FT,Principal Data Scientist,151000,USD,151000,US,100,US,L\\n2020,EN,FT,Data Scientist,105000,USD,105000,US,100,US,S\\n2020,EN,CT,Business Data Analyst,100000,USD,100000,US,100,US,L\\n2021e,SE,FT,Data Science Manager,7000000,INR,94917,IN,50,IN,L\\n'}"
            ]
          },
          "metadata": {},
          "execution_count": 2
        }
      ]
    },
    {
      "cell_type": "code",
      "metadata": {
        "id": "liXGipsz4rff",
        "colab": {
          "base_uri": "https://localhost:8080/",
          "height": 423
        },
        "outputId": "9d0fc786-1c89-418c-9354-4c04d16168eb"
      },
      "source": [
        "df = pd.read_csv(\"Data Science Jobs Salaries.csv\")\n",
        "df"
      ],
      "execution_count": null,
      "outputs": [
        {
          "output_type": "execute_result",
          "data": {
            "text/html": [
              "<div>\n",
              "<style scoped>\n",
              "    .dataframe tbody tr th:only-of-type {\n",
              "        vertical-align: middle;\n",
              "    }\n",
              "\n",
              "    .dataframe tbody tr th {\n",
              "        vertical-align: top;\n",
              "    }\n",
              "\n",
              "    .dataframe thead th {\n",
              "        text-align: right;\n",
              "    }\n",
              "</style>\n",
              "<table border=\"1\" class=\"dataframe\">\n",
              "  <thead>\n",
              "    <tr style=\"text-align: right;\">\n",
              "      <th></th>\n",
              "      <th>work_year</th>\n",
              "      <th>experience_level</th>\n",
              "      <th>employment_type</th>\n",
              "      <th>job_title</th>\n",
              "      <th>salary</th>\n",
              "      <th>salary_currency</th>\n",
              "      <th>salary_in_usd</th>\n",
              "      <th>employee_residence</th>\n",
              "      <th>remote_ratio</th>\n",
              "      <th>company_location</th>\n",
              "      <th>company_size</th>\n",
              "    </tr>\n",
              "  </thead>\n",
              "  <tbody>\n",
              "    <tr>\n",
              "      <th>0</th>\n",
              "      <td>2021e</td>\n",
              "      <td>EN</td>\n",
              "      <td>FT</td>\n",
              "      <td>Data Science Consultant</td>\n",
              "      <td>54000</td>\n",
              "      <td>EUR</td>\n",
              "      <td>64369</td>\n",
              "      <td>DE</td>\n",
              "      <td>50</td>\n",
              "      <td>DE</td>\n",
              "      <td>L</td>\n",
              "    </tr>\n",
              "    <tr>\n",
              "      <th>1</th>\n",
              "      <td>2020</td>\n",
              "      <td>SE</td>\n",
              "      <td>FT</td>\n",
              "      <td>Data Scientist</td>\n",
              "      <td>60000</td>\n",
              "      <td>EUR</td>\n",
              "      <td>68428</td>\n",
              "      <td>GR</td>\n",
              "      <td>100</td>\n",
              "      <td>US</td>\n",
              "      <td>L</td>\n",
              "    </tr>\n",
              "    <tr>\n",
              "      <th>2</th>\n",
              "      <td>2021e</td>\n",
              "      <td>EX</td>\n",
              "      <td>FT</td>\n",
              "      <td>Head of Data Science</td>\n",
              "      <td>85000</td>\n",
              "      <td>USD</td>\n",
              "      <td>85000</td>\n",
              "      <td>RU</td>\n",
              "      <td>0</td>\n",
              "      <td>RU</td>\n",
              "      <td>M</td>\n",
              "    </tr>\n",
              "    <tr>\n",
              "      <th>3</th>\n",
              "      <td>2021e</td>\n",
              "      <td>EX</td>\n",
              "      <td>FT</td>\n",
              "      <td>Head of Data</td>\n",
              "      <td>230000</td>\n",
              "      <td>USD</td>\n",
              "      <td>230000</td>\n",
              "      <td>RU</td>\n",
              "      <td>50</td>\n",
              "      <td>RU</td>\n",
              "      <td>L</td>\n",
              "    </tr>\n",
              "    <tr>\n",
              "      <th>4</th>\n",
              "      <td>2021e</td>\n",
              "      <td>EN</td>\n",
              "      <td>FT</td>\n",
              "      <td>Machine Learning Engineer</td>\n",
              "      <td>125000</td>\n",
              "      <td>USD</td>\n",
              "      <td>125000</td>\n",
              "      <td>US</td>\n",
              "      <td>100</td>\n",
              "      <td>US</td>\n",
              "      <td>S</td>\n",
              "    </tr>\n",
              "    <tr>\n",
              "      <th>...</th>\n",
              "      <td>...</td>\n",
              "      <td>...</td>\n",
              "      <td>...</td>\n",
              "      <td>...</td>\n",
              "      <td>...</td>\n",
              "      <td>...</td>\n",
              "      <td>...</td>\n",
              "      <td>...</td>\n",
              "      <td>...</td>\n",
              "      <td>...</td>\n",
              "      <td>...</td>\n",
              "    </tr>\n",
              "    <tr>\n",
              "      <th>240</th>\n",
              "      <td>2020</td>\n",
              "      <td>SE</td>\n",
              "      <td>FT</td>\n",
              "      <td>Data Scientist</td>\n",
              "      <td>412000</td>\n",
              "      <td>USD</td>\n",
              "      <td>412000</td>\n",
              "      <td>US</td>\n",
              "      <td>100</td>\n",
              "      <td>US</td>\n",
              "      <td>L</td>\n",
              "    </tr>\n",
              "    <tr>\n",
              "      <th>241</th>\n",
              "      <td>2021e</td>\n",
              "      <td>MI</td>\n",
              "      <td>FT</td>\n",
              "      <td>Principal Data Scientist</td>\n",
              "      <td>151000</td>\n",
              "      <td>USD</td>\n",
              "      <td>151000</td>\n",
              "      <td>US</td>\n",
              "      <td>100</td>\n",
              "      <td>US</td>\n",
              "      <td>L</td>\n",
              "    </tr>\n",
              "    <tr>\n",
              "      <th>242</th>\n",
              "      <td>2020</td>\n",
              "      <td>EN</td>\n",
              "      <td>FT</td>\n",
              "      <td>Data Scientist</td>\n",
              "      <td>105000</td>\n",
              "      <td>USD</td>\n",
              "      <td>105000</td>\n",
              "      <td>US</td>\n",
              "      <td>100</td>\n",
              "      <td>US</td>\n",
              "      <td>S</td>\n",
              "    </tr>\n",
              "    <tr>\n",
              "      <th>243</th>\n",
              "      <td>2020</td>\n",
              "      <td>EN</td>\n",
              "      <td>CT</td>\n",
              "      <td>Business Data Analyst</td>\n",
              "      <td>100000</td>\n",
              "      <td>USD</td>\n",
              "      <td>100000</td>\n",
              "      <td>US</td>\n",
              "      <td>100</td>\n",
              "      <td>US</td>\n",
              "      <td>L</td>\n",
              "    </tr>\n",
              "    <tr>\n",
              "      <th>244</th>\n",
              "      <td>2021e</td>\n",
              "      <td>SE</td>\n",
              "      <td>FT</td>\n",
              "      <td>Data Science Manager</td>\n",
              "      <td>7000000</td>\n",
              "      <td>INR</td>\n",
              "      <td>94917</td>\n",
              "      <td>IN</td>\n",
              "      <td>50</td>\n",
              "      <td>IN</td>\n",
              "      <td>L</td>\n",
              "    </tr>\n",
              "  </tbody>\n",
              "</table>\n",
              "<p>245 rows × 11 columns</p>\n",
              "</div>"
            ],
            "text/plain": [
              "    work_year experience_level  ... company_location company_size\n",
              "0       2021e               EN  ...               DE            L\n",
              "1        2020               SE  ...               US            L\n",
              "2       2021e               EX  ...               RU            M\n",
              "3       2021e               EX  ...               RU            L\n",
              "4       2021e               EN  ...               US            S\n",
              "..        ...              ...  ...              ...          ...\n",
              "240      2020               SE  ...               US            L\n",
              "241     2021e               MI  ...               US            L\n",
              "242      2020               EN  ...               US            S\n",
              "243      2020               EN  ...               US            L\n",
              "244     2021e               SE  ...               IN            L\n",
              "\n",
              "[245 rows x 11 columns]"
            ]
          },
          "metadata": {},
          "execution_count": 4
        }
      ]
    },
    {
      "cell_type": "code",
      "metadata": {
        "id": "0rGBpGgPqaUe"
      },
      "source": [
        "\n",
        "df['work_year'] = df['work_year'].str.replace(r'[\\D\\s]', '').astype(int)\n",
        "df1 = df.drop(['salary','salary_currency'], axis = 1)"
      ],
      "execution_count": null,
      "outputs": []
    },
    {
      "cell_type": "markdown",
      "metadata": {
        "id": "JtNuPfWOXlDV"
      },
      "source": [
        "## EDA"
      ]
    },
    {
      "cell_type": "code",
      "metadata": {
        "id": "yhH8pNjKz1eW",
        "colab": {
          "base_uri": "https://localhost:8080/",
          "height": 423
        },
        "outputId": "714011cd-c213-41b1-866d-464964363447"
      },
      "source": [
        "\n",
        "df1"
      ],
      "execution_count": null,
      "outputs": [
        {
          "output_type": "execute_result",
          "data": {
            "text/html": [
              "<div>\n",
              "<style scoped>\n",
              "    .dataframe tbody tr th:only-of-type {\n",
              "        vertical-align: middle;\n",
              "    }\n",
              "\n",
              "    .dataframe tbody tr th {\n",
              "        vertical-align: top;\n",
              "    }\n",
              "\n",
              "    .dataframe thead th {\n",
              "        text-align: right;\n",
              "    }\n",
              "</style>\n",
              "<table border=\"1\" class=\"dataframe\">\n",
              "  <thead>\n",
              "    <tr style=\"text-align: right;\">\n",
              "      <th></th>\n",
              "      <th>work_year</th>\n",
              "      <th>experience_level</th>\n",
              "      <th>employment_type</th>\n",
              "      <th>job_title</th>\n",
              "      <th>salary_in_usd</th>\n",
              "      <th>employee_residence</th>\n",
              "      <th>remote_ratio</th>\n",
              "      <th>company_location</th>\n",
              "      <th>company_size</th>\n",
              "    </tr>\n",
              "  </thead>\n",
              "  <tbody>\n",
              "    <tr>\n",
              "      <th>0</th>\n",
              "      <td>2021</td>\n",
              "      <td>EN</td>\n",
              "      <td>FT</td>\n",
              "      <td>Data Science Consultant</td>\n",
              "      <td>64369</td>\n",
              "      <td>DE</td>\n",
              "      <td>50</td>\n",
              "      <td>DE</td>\n",
              "      <td>L</td>\n",
              "    </tr>\n",
              "    <tr>\n",
              "      <th>1</th>\n",
              "      <td>2020</td>\n",
              "      <td>SE</td>\n",
              "      <td>FT</td>\n",
              "      <td>Data Scientist</td>\n",
              "      <td>68428</td>\n",
              "      <td>GR</td>\n",
              "      <td>100</td>\n",
              "      <td>US</td>\n",
              "      <td>L</td>\n",
              "    </tr>\n",
              "    <tr>\n",
              "      <th>2</th>\n",
              "      <td>2021</td>\n",
              "      <td>EX</td>\n",
              "      <td>FT</td>\n",
              "      <td>Head of Data Science</td>\n",
              "      <td>85000</td>\n",
              "      <td>RU</td>\n",
              "      <td>0</td>\n",
              "      <td>RU</td>\n",
              "      <td>M</td>\n",
              "    </tr>\n",
              "    <tr>\n",
              "      <th>3</th>\n",
              "      <td>2021</td>\n",
              "      <td>EX</td>\n",
              "      <td>FT</td>\n",
              "      <td>Head of Data</td>\n",
              "      <td>230000</td>\n",
              "      <td>RU</td>\n",
              "      <td>50</td>\n",
              "      <td>RU</td>\n",
              "      <td>L</td>\n",
              "    </tr>\n",
              "    <tr>\n",
              "      <th>4</th>\n",
              "      <td>2021</td>\n",
              "      <td>EN</td>\n",
              "      <td>FT</td>\n",
              "      <td>Machine Learning Engineer</td>\n",
              "      <td>125000</td>\n",
              "      <td>US</td>\n",
              "      <td>100</td>\n",
              "      <td>US</td>\n",
              "      <td>S</td>\n",
              "    </tr>\n",
              "    <tr>\n",
              "      <th>...</th>\n",
              "      <td>...</td>\n",
              "      <td>...</td>\n",
              "      <td>...</td>\n",
              "      <td>...</td>\n",
              "      <td>...</td>\n",
              "      <td>...</td>\n",
              "      <td>...</td>\n",
              "      <td>...</td>\n",
              "      <td>...</td>\n",
              "    </tr>\n",
              "    <tr>\n",
              "      <th>240</th>\n",
              "      <td>2020</td>\n",
              "      <td>SE</td>\n",
              "      <td>FT</td>\n",
              "      <td>Data Scientist</td>\n",
              "      <td>412000</td>\n",
              "      <td>US</td>\n",
              "      <td>100</td>\n",
              "      <td>US</td>\n",
              "      <td>L</td>\n",
              "    </tr>\n",
              "    <tr>\n",
              "      <th>241</th>\n",
              "      <td>2021</td>\n",
              "      <td>MI</td>\n",
              "      <td>FT</td>\n",
              "      <td>Principal Data Scientist</td>\n",
              "      <td>151000</td>\n",
              "      <td>US</td>\n",
              "      <td>100</td>\n",
              "      <td>US</td>\n",
              "      <td>L</td>\n",
              "    </tr>\n",
              "    <tr>\n",
              "      <th>242</th>\n",
              "      <td>2020</td>\n",
              "      <td>EN</td>\n",
              "      <td>FT</td>\n",
              "      <td>Data Scientist</td>\n",
              "      <td>105000</td>\n",
              "      <td>US</td>\n",
              "      <td>100</td>\n",
              "      <td>US</td>\n",
              "      <td>S</td>\n",
              "    </tr>\n",
              "    <tr>\n",
              "      <th>243</th>\n",
              "      <td>2020</td>\n",
              "      <td>EN</td>\n",
              "      <td>CT</td>\n",
              "      <td>Business Data Analyst</td>\n",
              "      <td>100000</td>\n",
              "      <td>US</td>\n",
              "      <td>100</td>\n",
              "      <td>US</td>\n",
              "      <td>L</td>\n",
              "    </tr>\n",
              "    <tr>\n",
              "      <th>244</th>\n",
              "      <td>2021</td>\n",
              "      <td>SE</td>\n",
              "      <td>FT</td>\n",
              "      <td>Data Science Manager</td>\n",
              "      <td>94917</td>\n",
              "      <td>IN</td>\n",
              "      <td>50</td>\n",
              "      <td>IN</td>\n",
              "      <td>L</td>\n",
              "    </tr>\n",
              "  </tbody>\n",
              "</table>\n",
              "<p>245 rows × 9 columns</p>\n",
              "</div>"
            ],
            "text/plain": [
              "     work_year experience_level  ... company_location company_size\n",
              "0         2021               EN  ...               DE            L\n",
              "1         2020               SE  ...               US            L\n",
              "2         2021               EX  ...               RU            M\n",
              "3         2021               EX  ...               RU            L\n",
              "4         2021               EN  ...               US            S\n",
              "..         ...              ...  ...              ...          ...\n",
              "240       2020               SE  ...               US            L\n",
              "241       2021               MI  ...               US            L\n",
              "242       2020               EN  ...               US            S\n",
              "243       2020               EN  ...               US            L\n",
              "244       2021               SE  ...               IN            L\n",
              "\n",
              "[245 rows x 9 columns]"
            ]
          },
          "metadata": {},
          "execution_count": 6
        }
      ]
    },
    {
      "cell_type": "code",
      "metadata": {
        "colab": {
          "base_uri": "https://localhost:8080/",
          "height": 300
        },
        "id": "M9HNXXhmXQx-",
        "outputId": "bce55217-d985-454e-a0f3-486a07f4db23"
      },
      "source": [
        "df1.describe()"
      ],
      "execution_count": null,
      "outputs": [
        {
          "output_type": "execute_result",
          "data": {
            "text/html": [
              "<div>\n",
              "<style scoped>\n",
              "    .dataframe tbody tr th:only-of-type {\n",
              "        vertical-align: middle;\n",
              "    }\n",
              "\n",
              "    .dataframe tbody tr th {\n",
              "        vertical-align: top;\n",
              "    }\n",
              "\n",
              "    .dataframe thead th {\n",
              "        text-align: right;\n",
              "    }\n",
              "</style>\n",
              "<table border=\"1\" class=\"dataframe\">\n",
              "  <thead>\n",
              "    <tr style=\"text-align: right;\">\n",
              "      <th></th>\n",
              "      <th>work_year</th>\n",
              "      <th>salary_in_usd</th>\n",
              "      <th>remote_ratio</th>\n",
              "    </tr>\n",
              "  </thead>\n",
              "  <tbody>\n",
              "    <tr>\n",
              "      <th>count</th>\n",
              "      <td>245.000000</td>\n",
              "      <td>245.000000</td>\n",
              "      <td>245.000000</td>\n",
              "    </tr>\n",
              "    <tr>\n",
              "      <th>mean</th>\n",
              "      <td>2020.730612</td>\n",
              "      <td>99868.012245</td>\n",
              "      <td>69.183673</td>\n",
              "    </tr>\n",
              "    <tr>\n",
              "      <th>std</th>\n",
              "      <td>0.444550</td>\n",
              "      <td>83983.326949</td>\n",
              "      <td>37.593421</td>\n",
              "    </tr>\n",
              "    <tr>\n",
              "      <th>min</th>\n",
              "      <td>2020.000000</td>\n",
              "      <td>2876.000000</td>\n",
              "      <td>0.000000</td>\n",
              "    </tr>\n",
              "    <tr>\n",
              "      <th>25%</th>\n",
              "      <td>2020.000000</td>\n",
              "      <td>45896.000000</td>\n",
              "      <td>50.000000</td>\n",
              "    </tr>\n",
              "    <tr>\n",
              "      <th>50%</th>\n",
              "      <td>2021.000000</td>\n",
              "      <td>81000.000000</td>\n",
              "      <td>100.000000</td>\n",
              "    </tr>\n",
              "    <tr>\n",
              "      <th>75%</th>\n",
              "      <td>2021.000000</td>\n",
              "      <td>130000.000000</td>\n",
              "      <td>100.000000</td>\n",
              "    </tr>\n",
              "    <tr>\n",
              "      <th>max</th>\n",
              "      <td>2021.000000</td>\n",
              "      <td>600000.000000</td>\n",
              "      <td>100.000000</td>\n",
              "    </tr>\n",
              "  </tbody>\n",
              "</table>\n",
              "</div>"
            ],
            "text/plain": [
              "         work_year  salary_in_usd  remote_ratio\n",
              "count   245.000000     245.000000    245.000000\n",
              "mean   2020.730612   99868.012245     69.183673\n",
              "std       0.444550   83983.326949     37.593421\n",
              "min    2020.000000    2876.000000      0.000000\n",
              "25%    2020.000000   45896.000000     50.000000\n",
              "50%    2021.000000   81000.000000    100.000000\n",
              "75%    2021.000000  130000.000000    100.000000\n",
              "max    2021.000000  600000.000000    100.000000"
            ]
          },
          "metadata": {},
          "execution_count": 7
        }
      ]
    },
    {
      "cell_type": "markdown",
      "metadata": {
        "id": "icjXRRZ8MGQN"
      },
      "source": [
        "## Visualizations"
      ]
    },
    {
      "cell_type": "code",
      "metadata": {
        "id": "LWY9buci2cAX",
        "colab": {
          "base_uri": "https://localhost:8080/",
          "height": 758
        },
        "outputId": "c4c49b99-e444-4ce5-d0a3-776751eca3f6"
      },
      "source": [
        "import seaborn as sns\n",
        "\n",
        "# Let's take a look at the jobs and their salaries in usd\n",
        "sns.set()\n",
        "job_salary_usd = df[['company_location', 'salary_in_usd']]\n",
        "job_salary_usd = job_salary_usd.groupby('company_location').mean()['salary_in_usd'].sort_values().reset_index()\n",
        "fig = plt.figure(figsize=(17,12))\n",
        "g = sns.barplot(x='company_location',\n",
        "                y='salary_in_usd',\n",
        "                data=job_salary_usd,\n",
        "                ci=None)\n",
        "#g.bar_label(g.containers[0], rotation=90)\n",
        "plt.ylabel(\"Average Salary\", size=20)\n",
        "plt.xlabel('Company Country', size=20)\n",
        "plt.xticks(rotation=90)\n",
        "plt.title(\"Average Salary in USD by Location\", size=25);"
      ],
      "execution_count": null,
      "outputs": [
        {
          "output_type": "display_data",
          "data": {
            "image/png": "[encoded data removed]",
            "text/plain": [
              "<Figure size 1224x864 with 1 Axes>"
            ]
          },
          "metadata": {}
        }
      ]
    },
    {
      "cell_type": "code",
      "metadata": {
        "colab": {
          "base_uri": "https://localhost:8080/",
          "height": 773
        },
        "id": "abq_1DKe7r1o",
        "outputId": "d248407e-0e98-405d-de72-0414037ca494"
      },
      "source": [
        "sns.set()\n",
        "job_salary_usd = df[['job_title', 'salary_in_usd']]\n",
        "job_salary_usd = job_salary_usd.groupby('job_title').mean()['salary_in_usd'].sort_values().reset_index()\n",
        "fig = plt.figure(figsize=(28,10))\n",
        "g = sns.barplot(x='job_title',\n",
        "                y='salary_in_usd',\n",
        "                data=job_salary_usd,\n",
        "                ci=None)\n",
        "\n",
        "plt.ylabel(\"Salary\", size=20)\n",
        "plt.xlabel('Job', size=20)\n",
        "plt.xticks(rotation=90)\n",
        "plt.title(\"Average Salary(USD) for Job Title\", size=24);"
      ],
      "execution_count": null,
      "outputs": [
        {
          "output_type": "display_data",
          "data": {
            "image/png": "[encoded data removed]",
            "text/plain": [
              "<Figure size 2016x720 with 1 Axes>"
            ]
          },
          "metadata": {}
        }
      ]
    },
    {
      "cell_type": "markdown",
      "metadata": {
        "id": "GPaNdO-oxelg"
      },
      "source": [
        "## Company Size Count"
      ]
    },
    {
      "cell_type": "code",
      "metadata": {
        "colab": {
          "base_uri": "https://localhost:8080/",
          "height": 750
        },
        "id": "BgawZWAsxb-A",
        "outputId": "43873c3b-7a89-4e9b-d82c-e71ff301b689"
      },
      "source": [
        "com_size = df.groupby('company_size').size().sort_values(ascending=False)\n",
        "fig = plt.figure(figsize=(17,12))\n",
        "g = com_size.plot(kind='bar', color=['lime', 'yellow', 'coral'])\n",
        "#g.bar_label(g.containers[0])\n",
        "plt.title(\"Company Size Count\", size=25)\n",
        "plt.xlabel('Company Size', size=20)\n",
        "plt.ylabel('Size Count', size=20)\n",
        "plt.xticks(rotation=0)\n",
        "plt.show()"
      ],
      "execution_count": null,
      "outputs": [
        {
          "output_type": "display_data",
          "data": {
            "image/png": "[encoded data removed]",
            "text/plain": [
              "<Figure size 1224x864 with 1 Axes>"
            ]
          },
          "metadata": {}
        }
      ]
    },
    {
      "cell_type": "code",
      "metadata": {
        "colab": {
          "base_uri": "https://localhost:8080/",
          "height": 750
        },
        "id": "JlZjaF019N-v",
        "outputId": "54b01f67-9ab7-43c5-f49e-2fcc15238058"
      },
      "source": [
        "size_pay = df.groupby('company_size').mean()['salary_in_usd'].sort_values(ascending=False)\n",
        "fig = plt.figure(figsize=(17,12))\n",
        "g = size_pay.plot(kind='bar', color=['blue', 'maroon', 'darkgrey'])\n",
        "#g.bar_label(g.containers[0])\n",
        "plt.title(\"Company Size Avg Salary\", size=25)\n",
        "plt.xlabel('Company Size', size=20)\n",
        "plt.ylabel('Salary', size=20)\n",
        "plt.xticks(rotation=0)\n",
        "plt.show()"
      ],
      "execution_count": null,
      "outputs": [
        {
          "output_type": "display_data",
          "data": {
            "image/png": "[encoded data removed]",
            "text/plain": [
              "<Figure size 1224x864 with 1 Axes>"
            ]
          },
          "metadata": {}
        }
      ]
    },
    {
      "cell_type": "markdown",
      "metadata": {
        "id": "O_dHqZXQ0ZJm"
      },
      "source": [
        "Company Count per Country"
      ]
    },
    {
      "cell_type": "code",
      "metadata": {
        "colab": {
          "base_uri": "https://localhost:8080/",
          "height": 758
        },
        "id": "JD-UCKaC0hnm",
        "outputId": "4999f350-717d-4fbc-f017-04725a2ab52a"
      },
      "source": [
        "com_loc = df.groupby('company_location').size().sort_values(ascending=False)\n",
        "#plotting the data\n",
        "fig = plt.figure(figsize=(14,12))\n",
        "g = com_loc.plot(kind='bar')\n",
        "#g.bar_label(g.containers[0],rotation=45)\n",
        "plt.xlabel(\"Location Count\", size=20)\n",
        "plt.ylabel('Location', size=20)\n",
        "plt.title(\"Company Location Count\", size=25)\n",
        "plt.show()"
      ],
      "execution_count": null,
      "outputs": [
        {
          "output_type": "display_data",
          "data": {
            "image/png": "[encoded data removed]",
            "text/plain": [
              "<Figure size 1008x864 with 1 Axes>"
            ]
          },
          "metadata": {}
        }
      ]
    },
    {
      "cell_type": "markdown",
      "metadata": {
        "id": "xM0zdAb3XB1c"
      },
      "source": [
        "## TOP JOBS"
      ]
    },
    {
      "cell_type": "code",
      "metadata": {
        "colab": {
          "base_uri": "https://localhost:8080/"
        },
        "id": "ErKAt6g2Uc7c",
        "outputId": "1df31377-8ae4-4e54-eded-deee8c227a81"
      },
      "source": [
        "job_fda = df1[df1['job_title'] == 'Financial Data Analyst']\n",
        "job_fda.groupby('company_location').size().sort_values(ascending=False).reset_index()"
      ],
      "execution_count": null,
      "outputs": [
        {
          "output_type": "execute_result",
          "data": {
            "text/html": [
              "<div>\n",
              "<style scoped>\n",
              "    .dataframe tbody tr th:only-of-type {\n",
              "        vertical-align: middle;\n",
              "    }\n",
              "\n",
              "    .dataframe tbody tr th {\n",
              "        vertical-align: top;\n",
              "    }\n",
              "\n",
              "    .dataframe thead th {\n",
              "        text-align: right;\n",
              "    }\n",
              "</style>\n",
              "<table border=\"1\" class=\"dataframe\">\n",
              "  <thead>\n",
              "    <tr style=\"text-align: right;\">\n",
              "      <th></th>\n",
              "      <th>company_location</th>\n",
              "      <th>0</th>\n",
              "    </tr>\n",
              "  </thead>\n",
              "  <tbody>\n",
              "    <tr>\n",
              "      <th>0</th>\n",
              "      <td>US</td>\n",
              "      <td>1</td>\n",
              "    </tr>\n",
              "  </tbody>\n",
              "</table>\n",
              "</div>"
            ],
            "text/plain": [
              "  company_location  0\n",
              "0               US  1"
            ]
          },
          "metadata": {},
          "execution_count": 56
        }
      ]
    },
    {
      "cell_type": "code",
      "metadata": {
        "colab": {
          "base_uri": "https://localhost:8080/"
        },
        "id": "0yRdOz9YTrm4",
        "outputId": "b872b442-6fc0-454e-ce54-e1e8055b20e2"
      },
      "source": [
        "\n",
        "job_amls = df1[df1['job_title'] == \"Applied Machine Learning Scientist\"]\n",
        "job_amls.groupby('company_location').size().sort_values(ascending=False).reset_index()\n"
      ],
      "execution_count": null,
      "outputs": [
        {
          "output_type": "execute_result",
          "data": {
            "text/html": [
              "<div>\n",
              "<style scoped>\n",
              "    .dataframe tbody tr th:only-of-type {\n",
              "        vertical-align: middle;\n",
              "    }\n",
              "\n",
              "    .dataframe tbody tr th {\n",
              "        vertical-align: top;\n",
              "    }\n",
              "\n",
              "    .dataframe thead th {\n",
              "        text-align: right;\n",
              "    }\n",
              "</style>\n",
              "<table border=\"1\" class=\"dataframe\">\n",
              "  <thead>\n",
              "    <tr style=\"text-align: right;\">\n",
              "      <th></th>\n",
              "      <th>company_location</th>\n",
              "      <th>0</th>\n",
              "    </tr>\n",
              "  </thead>\n",
              "  <tbody>\n",
              "    <tr>\n",
              "      <th>0</th>\n",
              "      <td>US</td>\n",
              "      <td>1</td>\n",
              "    </tr>\n",
              "  </tbody>\n",
              "</table>\n",
              "</div>"
            ],
            "text/plain": [
              "  company_location  0\n",
              "0               US  1"
            ]
          },
          "metadata": {},
          "execution_count": 51
        }
      ]
    },
    {
      "cell_type": "code",
      "metadata": {
        "colab": {
          "base_uri": "https://localhost:8080/"
        },
        "id": "f3tc-Hj5Tuuk",
        "outputId": "8e264f1e-240b-445e-dfc0-ad2f67deb331"
      },
      "source": [
        "job_pde = df1[df1['job_title'] == \"Principal Data Engineer\"]\n",
        "job_pde.groupby('company_location').size().sort_values(ascending=False).reset_index()\n"
      ],
      "execution_count": null,
      "outputs": [
        {
          "output_type": "execute_result",
          "data": {
            "text/html": [
              "<div>\n",
              "<style scoped>\n",
              "    .dataframe tbody tr th:only-of-type {\n",
              "        vertical-align: middle;\n",
              "    }\n",
              "\n",
              "    .dataframe tbody tr th {\n",
              "        vertical-align: top;\n",
              "    }\n",
              "\n",
              "    .dataframe thead th {\n",
              "        text-align: right;\n",
              "    }\n",
              "</style>\n",
              "<table border=\"1\" class=\"dataframe\">\n",
              "  <thead>\n",
              "    <tr style=\"text-align: right;\">\n",
              "      <th></th>\n",
              "      <th>company_location</th>\n",
              "      <th>0</th>\n",
              "    </tr>\n",
              "  </thead>\n",
              "  <tbody>\n",
              "    <tr>\n",
              "      <th>0</th>\n",
              "      <td>US</td>\n",
              "      <td>2</td>\n",
              "    </tr>\n",
              "  </tbody>\n",
              "</table>\n",
              "</div>"
            ],
            "text/plain": [
              "  company_location  0\n",
              "0               US  2"
            ]
          },
          "metadata": {},
          "execution_count": 54
        }
      ]
    },
    {
      "cell_type": "markdown",
      "metadata": {
        "id": "XIhiZbBYW2WT"
      },
      "source": [
        "## US Companies ONLY "
      ]
    },
    {
      "cell_type": "code",
      "metadata": {
        "colab": {
          "resources": {
            "http://localhost:8080/nbextensions/google.colab/files.js": {
              "data": "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",
              "ok": true,
              "headers": [
                [
                  "content-type",
                  "application/javascript"
                ]
              ],
              "status": 200,
              "status_text": ""
            }
          },
          "base_uri": "https://localhost:8080/"
        },
        "id": "yjyE4-1XW-ku",
        "outputId": "2b7d0827-313b-4cb2-bb7a-69fb01e3a707"
      },
      "source": [
        "files.upload()\n"
      ],
      "execution_count": null,
      "outputs": [
        {
          "output_type": "display_data",
          "data": {
            "text/html": [
              "\n",
              "     <input type=\"file\" id=\"files-98033042-bc83-48f4-9034-6c3e66a38267\" name=\"files[]\" multiple disabled\n",
              "        style=\"border:none\" />\n",
              "     <output id=\"result-98033042-bc83-48f4-9034-6c3e66a38267\">\n",
              "      Upload widget is only available when the cell has been executed in the\n",
              "      current browser session. Please rerun this cell to enable.\n",
              "      </output>\n",
              "      <script src=\"/nbextensions/google.colab/files.js\"></script> "
            ],
            "text/plain": [
              "<IPython.core.display.HTML object>"
            ]
          },
          "metadata": {}
        },
        {
          "output_type": "stream",
          "name": "stdout",
          "text": [
            "Saving US Data Science Jobs Salaries.csv to US Data Science Jobs Salaries (1).csv\n"
          ]
        }
      ]
    },
    {
      "cell_type": "code",
      "metadata": {
        "id": "YqUMYcEzZSXE"
      },
      "source": [
        "george = pd.read_csv('US Data Science Jobs Salaries.csv')\n",
        "george.describe()\n",
        "\n",
        "\n",
        "#usdf = pd.DataFrame()"
      ],
      "execution_count": null,
      "outputs": []
    },
    {
      "cell_type": "code",
      "metadata": {
        "id": "XITEfJtGiyFf"
      },
      "source": [
        ", columns=['experience_level', 'employment_type', 'job_title']"
      ],
      "execution_count": null,
      "outputs": []
    },
    {
      "cell_type": "code",
      "metadata": {
        "id": "bw2k0x8McOVC"
      },
      "source": [
        "\n",
        "george['work_year'] = george['work_year'].str.replace(r'[\\D\\s]', '').astype(int)\n",
        "\n"
      ],
      "execution_count": null,
      "outputs": []
    },
    {
      "cell_type": "code",
      "metadata": {
        "id": "abhrraZdi_2t"
      },
      "source": [
        "g1 = pd.get_dummies(data=george)"
      ],
      "execution_count": null,
      "outputs": []
    },
    {
      "cell_type": "code",
      "metadata": {
        "id": "kjtwTDSscxEz"
      },
      "source": [
        "x = g1.drop(['salary_in_usd'], axis = 1)\n",
        "y = g1['salary_in_usd']\n",
        "\n",
        "\n",
        "from sklearn.model_selection import train_test_split\n",
        "from sklearn.linear_model import LinearRegression\n",
        "\n",
        "\n",
        "x_train, y_train, x_valid, y_valid = train_test_split(x, y, random_state = 0)\n"
      ],
      "execution_count": null,
      "outputs": []
    },
    {
      "cell_type": "code",
      "metadata": {
        "id": "KRnvS6_weQgz"
      },
      "source": [
        "linreg = LinearRegression(normalize= True).fit(x_train, y_train)"
      ],
      "execution_count": null,
      "outputs": []
    },
    {
      "cell_type": "markdown",
      "metadata": {
        "id": "JNc7ohFANRAL"
      },
      "source": [
        "## Machine Learning: predicting salary"
      ]
    },
    {
      "cell_type": "code",
      "metadata": {
        "id": "WEW_UIEVNcVR"
      },
      "source": [
        "from sklearn import model_selection\n",
        "from sklearn.model_selection import train_test_split\n",
        "from sklearn.metrics import confusion_matrix, ConfusionMatrixDisplay\n",
        "from sklearn.metrics import classification_report\n",
        "from sklearn.metrics import confusion_matrix\n",
        "from sklearn.metrics import accuracy_score\n",
        "from sklearn.linear_model import LogisticRegression\n",
        "from sklearn.tree import DecisionTreeClassifier\n",
        "from sklearn.neighbors import KNeighborsClassifier\n",
        "from sklearn.discriminant_analysis import LinearDiscriminantAnalysis\n",
        "from sklearn.linear_model import LinearRegression\n",
        "from sklearn.svm import SVC\n",
        "from sklearn import preprocessing\n",
        "\n",
        "# import warnings filter\n",
        "from warnings import simplefilter\n",
        "\n",
        "# ignore all future warnings\n",
        "simplefilter(action='ignore', category=FutureWarning)"
      ],
      "execution_count": null,
      "outputs": []
    },
    {
      "cell_type": "code",
      "metadata": {
        "colab": {
          "base_uri": "https://localhost:8080/",
          "height": 423
        },
        "id": "33FKBzyjeISk",
        "outputId": "7e3cd311-b83f-4143-9b20-db26a8639544"
      },
      "source": [
        "df1"
      ],
      "execution_count": null,
      "outputs": [
        {
          "output_type": "execute_result",
          "data": {
            "text/html": [
              "<div>\n",
              "<style scoped>\n",
              "    .dataframe tbody tr th:only-of-type {\n",
              "        vertical-align: middle;\n",
              "    }\n",
              "\n",
              "    .dataframe tbody tr th {\n",
              "        vertical-align: top;\n",
              "    }\n",
              "\n",
              "    .dataframe thead th {\n",
              "        text-align: right;\n",
              "    }\n",
              "</style>\n",
              "<table border=\"1\" class=\"dataframe\">\n",
              "  <thead>\n",
              "    <tr style=\"text-align: right;\">\n",
              "      <th></th>\n",
              "      <th>work_year</th>\n",
              "      <th>experience_level</th>\n",
              "      <th>employment_type</th>\n",
              "      <th>job_title</th>\n",
              "      <th>salary_in_usd</th>\n",
              "      <th>employee_residence</th>\n",
              "      <th>remote_ratio</th>\n",
              "      <th>company_location</th>\n",
              "      <th>company_size</th>\n",
              "    </tr>\n",
              "  </thead>\n",
              "  <tbody>\n",
              "    <tr>\n",
              "      <th>0</th>\n",
              "      <td>2021</td>\n",
              "      <td>EN</td>\n",
              "      <td>FT</td>\n",
              "      <td>Data Science Consultant</td>\n",
              "      <td>64369</td>\n",
              "      <td>DE</td>\n",
              "      <td>50</td>\n",
              "      <td>DE</td>\n",
              "      <td>L</td>\n",
              "    </tr>\n",
              "    <tr>\n",
              "      <th>1</th>\n",
              "      <td>2020</td>\n",
              "      <td>SE</td>\n",
              "      <td>FT</td>\n",
              "      <td>Data Scientist</td>\n",
              "      <td>68428</td>\n",
              "      <td>GR</td>\n",
              "      <td>100</td>\n",
              "      <td>US</td>\n",
              "      <td>L</td>\n",
              "    </tr>\n",
              "    <tr>\n",
              "      <th>2</th>\n",
              "      <td>2021</td>\n",
              "      <td>EX</td>\n",
              "      <td>FT</td>\n",
              "      <td>Head of Data Science</td>\n",
              "      <td>85000</td>\n",
              "      <td>RU</td>\n",
              "      <td>0</td>\n",
              "      <td>RU</td>\n",
              "      <td>M</td>\n",
              "    </tr>\n",
              "    <tr>\n",
              "      <th>3</th>\n",
              "      <td>2021</td>\n",
              "      <td>EX</td>\n",
              "      <td>FT</td>\n",
              "      <td>Head of Data</td>\n",
              "      <td>230000</td>\n",
              "      <td>RU</td>\n",
              "      <td>50</td>\n",
              "      <td>RU</td>\n",
              "      <td>L</td>\n",
              "    </tr>\n",
              "    <tr>\n",
              "      <th>4</th>\n",
              "      <td>2021</td>\n",
              "      <td>EN</td>\n",
              "      <td>FT</td>\n",
              "      <td>Machine Learning Engineer</td>\n",
              "      <td>125000</td>\n",
              "      <td>US</td>\n",
              "      <td>100</td>\n",
              "      <td>US</td>\n",
              "      <td>S</td>\n",
              "    </tr>\n",
              "    <tr>\n",
              "      <th>...</th>\n",
              "      <td>...</td>\n",
              "      <td>...</td>\n",
              "      <td>...</td>\n",
              "      <td>...</td>\n",
              "      <td>...</td>\n",
              "      <td>...</td>\n",
              "      <td>...</td>\n",
              "      <td>...</td>\n",
              "      <td>...</td>\n",
              "    </tr>\n",
              "    <tr>\n",
              "      <th>240</th>\n",
              "      <td>2020</td>\n",
              "      <td>SE</td>\n",
              "      <td>FT</td>\n",
              "      <td>Data Scientist</td>\n",
              "      <td>412000</td>\n",
              "      <td>US</td>\n",
              "      <td>100</td>\n",
              "      <td>US</td>\n",
              "      <td>L</td>\n",
              "    </tr>\n",
              "    <tr>\n",
              "      <th>241</th>\n",
              "      <td>2021</td>\n",
              "      <td>MI</td>\n",
              "      <td>FT</td>\n",
              "      <td>Principal Data Scientist</td>\n",
              "      <td>151000</td>\n",
              "      <td>US</td>\n",
              "      <td>100</td>\n",
              "      <td>US</td>\n",
              "      <td>L</td>\n",
              "    </tr>\n",
              "    <tr>\n",
              "      <th>242</th>\n",
              "      <td>2020</td>\n",
              "      <td>EN</td>\n",
              "      <td>FT</td>\n",
              "      <td>Data Scientist</td>\n",
              "      <td>105000</td>\n",
              "      <td>US</td>\n",
              "      <td>100</td>\n",
              "      <td>US</td>\n",
              "      <td>S</td>\n",
              "    </tr>\n",
              "    <tr>\n",
              "      <th>243</th>\n",
              "      <td>2020</td>\n",
              "      <td>EN</td>\n",
              "      <td>CT</td>\n",
              "      <td>Business Data Analyst</td>\n",
              "      <td>100000</td>\n",
              "      <td>US</td>\n",
              "      <td>100</td>\n",
              "      <td>US</td>\n",
              "      <td>L</td>\n",
              "    </tr>\n",
              "    <tr>\n",
              "      <th>244</th>\n",
              "      <td>2021</td>\n",
              "      <td>SE</td>\n",
              "      <td>FT</td>\n",
              "      <td>Data Science Manager</td>\n",
              "      <td>94917</td>\n",
              "      <td>IN</td>\n",
              "      <td>50</td>\n",
              "      <td>IN</td>\n",
              "      <td>L</td>\n",
              "    </tr>\n",
              "  </tbody>\n",
              "</table>\n",
              "<p>245 rows × 9 columns</p>\n",
              "</div>"
            ],
            "text/plain": [
              "     work_year experience_level  ... company_location company_size\n",
              "0         2021               EN  ...               DE            L\n",
              "1         2020               SE  ...               US            L\n",
              "2         2021               EX  ...               RU            M\n",
              "3         2021               EX  ...               RU            L\n",
              "4         2021               EN  ...               US            S\n",
              "..         ...              ...  ...              ...          ...\n",
              "240       2020               SE  ...               US            L\n",
              "241       2021               MI  ...               US            L\n",
              "242       2020               EN  ...               US            S\n",
              "243       2020               EN  ...               US            L\n",
              "244       2021               SE  ...               IN            L\n",
              "\n",
              "[245 rows x 9 columns]"
            ]
          },
          "metadata": {},
          "execution_count": 29
        }
      ]
    },
    {
      "cell_type": "code",
      "metadata": {
        "colab": {
          "base_uri": "https://localhost:8080/",
          "height": 206
        },
        "id": "zGOtXysqeAZ7",
        "outputId": "1a646e19-392e-44dd-849a-ade1e4d36cd8"
      },
      "source": [
        "from sklearn import preprocessing\n",
        "\n",
        "le = preprocessing.LabelEncoder()\n",
        "\n",
        "#\n",
        "le.fit(df1.experience_level.drop_duplicates())\n",
        "df1.experience_level = le.transform(df1.experience_level)\n",
        "\n",
        "#\n",
        "le.fit(df1.employment_type.drop_duplicates())\n",
        "df1.employment_type = le.transform(df1.employment_type)\n",
        "\n",
        "#\n",
        "le.fit(df1.job_title.drop_duplicates())\n",
        "df1.job_title = le.transform(df1.job_title)\n",
        "\n",
        "#\n",
        "le.fit(df1.employee_residence.drop_duplicates())\n",
        "df1.employee_residence = le.transform(df1.employee_residence)\n",
        "\n",
        "#\n",
        "le.fit(df1.company_location.drop_duplicates())\n",
        "df1.company_location = le.transform(df1.company_location)\n",
        "\n",
        "#\n",
        "le.fit(df1.company_size.drop_duplicates())\n",
        "df1.company_size = le.transform(df1.company_size)\n",
        "\n",
        "df1.head()"
      ],
      "execution_count": null,
      "outputs": [
        {
          "output_type": "execute_result",
          "data": {
            "text/html": [
              "<div>\n",
              "<style scoped>\n",
              "    .dataframe tbody tr th:only-of-type {\n",
              "        vertical-align: middle;\n",
              "    }\n",
              "\n",
              "    .dataframe tbody tr th {\n",
              "        vertical-align: top;\n",
              "    }\n",
              "\n",
              "    .dataframe thead th {\n",
              "        text-align: right;\n",
              "    }\n",
              "</style>\n",
              "<table border=\"1\" class=\"dataframe\">\n",
              "  <thead>\n",
              "    <tr style=\"text-align: right;\">\n",
              "      <th></th>\n",
              "      <th>work_year</th>\n",
              "      <th>experience_level</th>\n",
              "      <th>employment_type</th>\n",
              "      <th>job_title</th>\n",
              "      <th>salary_in_usd</th>\n",
              "      <th>employee_residence</th>\n",
              "      <th>remote_ratio</th>\n",
              "      <th>company_location</th>\n",
              "      <th>company_size</th>\n",
              "    </tr>\n",
              "  </thead>\n",
              "  <tbody>\n",
              "    <tr>\n",
              "      <th>0</th>\n",
              "      <td>2021</td>\n",
              "      <td>0</td>\n",
              "      <td>2</td>\n",
              "      <td>17</td>\n",
              "      <td>64369</td>\n",
              "      <td>9</td>\n",
              "      <td>50</td>\n",
              "      <td>10</td>\n",
              "      <td>0</td>\n",
              "    </tr>\n",
              "    <tr>\n",
              "      <th>1</th>\n",
              "      <td>2020</td>\n",
              "      <td>3</td>\n",
              "      <td>2</td>\n",
              "      <td>20</td>\n",
              "      <td>68428</td>\n",
              "      <td>14</td>\n",
              "      <td>100</td>\n",
              "      <td>39</td>\n",
              "      <td>0</td>\n",
              "    </tr>\n",
              "    <tr>\n",
              "      <th>2</th>\n",
              "      <td>2021</td>\n",
              "      <td>1</td>\n",
              "      <td>2</td>\n",
              "      <td>27</td>\n",
              "      <td>85000</td>\n",
              "      <td>38</td>\n",
              "      <td>0</td>\n",
              "      <td>34</td>\n",
              "      <td>1</td>\n",
              "    </tr>\n",
              "    <tr>\n",
              "      <th>3</th>\n",
              "      <td>2021</td>\n",
              "      <td>1</td>\n",
              "      <td>2</td>\n",
              "      <td>26</td>\n",
              "      <td>230000</td>\n",
              "      <td>38</td>\n",
              "      <td>50</td>\n",
              "      <td>34</td>\n",
              "      <td>0</td>\n",
              "    </tr>\n",
              "    <tr>\n",
              "      <th>4</th>\n",
              "      <td>2021</td>\n",
              "      <td>0</td>\n",
              "      <td>2</td>\n",
              "      <td>32</td>\n",
              "      <td>125000</td>\n",
              "      <td>43</td>\n",
              "      <td>100</td>\n",
              "      <td>39</td>\n",
              "      <td>2</td>\n",
              "    </tr>\n",
              "  </tbody>\n",
              "</table>\n",
              "</div>"
            ],
            "text/plain": [
              "   work_year  experience_level  ...  company_location  company_size\n",
              "0       2021                 0  ...                10             0\n",
              "1       2020                 3  ...                39             0\n",
              "2       2021                 1  ...                34             1\n",
              "3       2021                 1  ...                34             0\n",
              "4       2021                 0  ...                39             2\n",
              "\n",
              "[5 rows x 9 columns]"
            ]
          },
          "metadata": {},
          "execution_count": 7
        }
      ]
    },
    {
      "cell_type": "code",
      "metadata": {
        "id": "LuN1WrRIXIVT"
      },
      "source": [
        "drops = [] # 'work_year','employment_type','company_size', 'remote_ratio', 'company_location', 'experience_level'\n",
        "df2 = df1.drop(drops, axis = 1)\n",
        "\n",
        "x = df2.drop(['salary_in_usd'], axis=1)\n",
        "y = df2['salary_in_usd']\n",
        "\n"
      ],
      "execution_count": null,
      "outputs": []
    },
    {
      "cell_type": "code",
      "metadata": {
        "id": "SeuBNFj6T4ik"
      },
      "source": [
        "from sklearn.model_selection import train_test_split\n",
        "x_train, x_test, y_train, y_test = train_test_split(x,y, test_size=0.2, random_state=0)\n"
      ],
      "execution_count": null,
      "outputs": []
    },
    {
      "cell_type": "code",
      "metadata": {
        "id": "2eeO6T0GClFY"
      },
      "source": [
        "from sklearn.preprocessing import StandardScaler\n",
        "scale = StandardScaler()\n",
        "x_train = scale.fit_transform(x_train)\n",
        "x_test = scale.transform(x_test)"
      ],
      "execution_count": null,
      "outputs": []
    },
    {
      "cell_type": "code",
      "metadata": {
        "id": "5I8S3LY1Bw91"
      },
      "source": [
        "from sklearn.linear_model import LinearRegression\n",
        "lr = LinearRegression().fit(x_train,y_train)\n",
        "ypred = lr.predict(x_test)"
      ],
      "execution_count": null,
      "outputs": []
    },
    {
      "cell_type": "code",
      "metadata": {
        "colab": {
          "base_uri": "https://localhost:8080/"
        },
        "id": "hY-i2fQpI4KD",
        "outputId": "ae8b8579-efd7-495d-9f25-f7b4189f095e"
      },
      "source": [
        "from sklearn.ensemble import RandomForestRegressor\n",
        "mr = RandomForestRegressor().fit(x_train, y_train)\n",
        "ypredmr = mr.predict(x_test)\n",
        "mr.score(x_train, y_train)"
      ],
      "execution_count": null,
      "outputs": [
        {
          "output_type": "execute_result",
          "data": {
            "text/plain": [
              "0.9018864392915411"
            ]
          },
          "metadata": {},
          "execution_count": 43
        }
      ]
    },
    {
      "cell_type": "code",
      "metadata": {
        "colab": {
          "base_uri": "https://localhost:8080/",
          "height": 702
        },
        "id": "axDQ9rzsKs-C",
        "outputId": "3e9a36a2-9126-490b-c0c3-d13d2fbab020"
      },
      "source": [
        "plt.figure(figsize=(15,10))\n",
        "ftimp = pd.Series(mr.feature_importances_, index=x.columns)\n",
        "ftimp.nlargest(11).plot(kind='bar')"
      ],
      "execution_count": null,
      "outputs": [
        {
          "output_type": "execute_result",
          "data": {
            "text/plain": [
              "<matplotlib.axes._subplots.AxesSubplot at 0x7fada76bf8d0>"
            ]
          },
          "metadata": {},
          "execution_count": 60
        },
        {
          "output_type": "display_data",
          "data": {
            "image/png": "[encoded data removed]",
            "text/plain": [
              "<Figure size 1080x720 with 1 Axes>"
            ]
          },
          "metadata": {
            "needs_background": "light"
          }
        }
      ]
    },
    {
      "cell_type": "markdown",
      "metadata": {
        "id": "17S5yJpBJaHK"
      },
      "source": [
        "## ML: predict job title"
      ]
    },
    {
      "cell_type": "code",
      "metadata": {
        "id": "l-ectN9iGDPq"
      },
      "source": [
        "drops = []\n",
        "df2 = df1.drop(drops, axis = 1)\n",
        "\n",
        "x = df2.drop(['job_title'], axis=1)\n",
        "y = df2['job_title']\n",
        "\n",
        "\n",
        "from sklearn.model_selection import train_test_split\n",
        "x_train, x_test, y_train, y_test = train_test_split(x,y, test_size=0.2, random_state=0)\n"
      ],
      "execution_count": null,
      "outputs": []
    },
    {
      "cell_type": "code",
      "metadata": {
        "id": "px8OTCE9KGtk"
      },
      "source": [
        "from sklearn.preprocessing import StandardScaler\n",
        "scale = StandardScaler()\n",
        "x_train = scale.fit_transform(x_train)\n",
        "x_test = scale.transform(x_test)"
      ],
      "execution_count": null,
      "outputs": []
    },
    {
      "cell_type": "code",
      "metadata": {
        "colab": {
          "base_uri": "https://localhost:8080/"
        },
        "id": "-iAsJE1wJhqL",
        "outputId": "09b8aa7c-aeda-40ab-bfa1-4fa60cbbab99"
      },
      "source": [
        "from sklearn.ensemble import RandomForestClassifier\n",
        "mr = RandomForestClassifier().fit(x_train, y_train)\n",
        "ypredmr = mr.predict(x_test)\n",
        "mr.score(x_train, y_train)"
      ],
      "execution_count": null,
      "outputs": [
        {
          "output_type": "execute_result",
          "data": {
            "text/plain": [
              "0.9693877551020408"
            ]
          },
          "metadata": {},
          "execution_count": 49
        }
      ]
    },
    {
      "cell_type": "code",
      "metadata": {
        "id": "59l_8aOhhyBl"
      },
      "source": [
        "mr.score(x_test, y_test)"
      ],
      "execution_count": null,
      "outputs": []
    },
    {
      "cell_type": "code",
      "metadata": {
        "colab": {
          "base_uri": "https://localhost:8080/",
          "height": 702
        },
        "id": "A2yYanVJJjpB",
        "outputId": "d860030c-75b0-451c-b766-d5b4b27be13e"
      },
      "source": [
        "plt.figure(figsize=(15,10))\n",
        "ftimp = pd.Series(mr.feature_importances_, index=x.columns)\n",
        "ftimp.nlargest(11).plot(kind='bar')"
      ],
      "execution_count": null,
      "outputs": [
        {
          "output_type": "execute_result",
          "data": {
            "text/plain": [
              "<matplotlib.axes._subplots.AxesSubplot at 0x7fada75a1c50>"
            ]
          },
          "metadata": {},
          "execution_count": 74
        },
        {
          "output_type": "display_data",
          "data": {
            "image/png": "[encoded data removed]",
            "text/plain": [
              "<Figure size 1080x720 with 1 Axes>"
            ]
          },
          "metadata": {
            "needs_background": "light"
          }
        }
      ]
    }
  ]
}
